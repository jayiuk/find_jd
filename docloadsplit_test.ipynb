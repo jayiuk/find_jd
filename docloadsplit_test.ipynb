{
 "cells": [
  {
   "cell_type": "code",
   "execution_count": 2,
   "id": "79716c17",
   "metadata": {},
   "outputs": [
    {
     "data": {
      "text/plain": [
       "[Document(metadata={'source': '/home/jayiuk/find_jd/data.json', 'seq_num': 1}, page_content='[{\"\\\\uae30\\\\uc5c5 \\\\uba85\": \"\\\\ub93c\\\\ud2bc\", \"\\\\ucc44\\\\uc6a9\\\\uacf5\\\\uace0\": [{\"\\\\ubd84\\\\uc57c\": \"\\\\uc778\\\\uacf5\\\\uc9c0\\\\ub2a5, \\\\uc0dd\\\\uc131\\\\ud615 AI, LLM, Computer Vision\", \"\\\\uc9c1\\\\ubb34\": [{\"\\\\uc9c1\\\\ubb34 \\\\uba85\": \"AI\\\\uc5d4\\\\uc9c0\\\\ub2c8\\\\uc5b4\", \"\\\\uc804\\\\uacf5\": \"\\\\uc218\\\\ud559, \\\\ud1b5\\\\uacc4\\\\ud559, \\\\ube45\\\\ub370\\\\uc774\\\\ud130, \\\\uc778\\\\uacf5\\\\uc9c0\\\\ub2a5, AI\", \"\\\\ud544\\\\uc694 \\\\uc5ed\\\\ub7c9\": \"\\\\uad6d\\\\ub0b4\\\\uc678 \\\\uc720\\\\uc218 \\\\ub300\\\\ud559\\\\uc5d0\\\\uc11c \\\\uc815\\\\ub7c9\\\\uc801, \\\\ubd84\\\\uc11d\\\\uc801 \\\\ubd84\\\\uc57c \\\\uad00\\\\ub828 \\\\uc804\\\\uacf5\\\\uc73c\\\\ub85c \\\\ud559\\\\uc0ac \\\\uc774\\\\uc0c1 \\\\ud559\\\\uc704\\\\ub97c \\\\ucde8\\\\ub4dd\\\\ud588\\\\uac70\\\\ub098 \\\\ucde8\\\\ub4dd \\\\uc608\\\\uc815\\\\uc774\\\\uc2e0 \\\\ubd84, \\\\ud504\\\\ub85c\\\\uadf8\\\\ub798\\\\ubc0d \\\\uac00\\\\ub2a5\\\\ud558\\\\uc2e0 \\\\ubd84 (Python \\\\ub4f1), Researcher Mindest\\\\uc744 \\\\uac16\\\\ucd94\\\\uace0 \\\\uacc4\\\\uc2e0 \\\\ubd84(\\\\uae4a\\\\uc740 \\\\uc0ac\\\\uace0\\\\ub825, \\\\ucc3d\\\\uc758\\\\ub825, \\\\uc9c1\\\\uc5c5\\\\uc801 \\\\uc724\\\\ub9ac\\\\uc758\\\\uc2dd, \\\\ub048\\\\uae30\\\\uc788\\\\uace0 \\\\uba85\\\\uc11d\\\\ud55c \\\\uc790\\\\uae30 \\\\uc8fc\\\\ub3c4\\\\ud615\\\\uc774\\\\uc2e0 \\\\ubd84), \\\\uc0dd\\\\uc131 AI \\\\ubd84\\\\uc57c\\\\uc5d0 \\\\uae4a\\\\uc740 \\\\uad00\\\\uc2ec\\\\uacfc \\\\uc774\\\\ud574\\\\uac00 \\\\uc788\\\\ub294 \\\\ubd84\", \"\\\\uc6b0\\\\ub300 \\\\uc0ac\\\\ud56d\": \"\\\\uc218\\\\ud559, \\\\ubb3c\\\\ub9ac, \\\\uc815\\\\ubcf4 \\\\uc62c\\\\ub9bc\\\\ud53c\\\\uc544\\\\ub4dc \\\\uc218\\\\uc0c1 \\\\uc2e4\\\\uc801\\\\uc774 \\\\uc788\\\\uc73c\\\\uc2e0 \\\\ubd84, \\\\uc0b6\\\\uc5d0 \\\\uc788\\\\uc5b4\\\\uc11c \\\\uc77c\\\\uc774 \\\\uc815\\\\ub9d0 \\\\uc911\\\\uc694\\\\ud558\\\\uc2e0 \\\\ubd84 , \\\\ube60\\\\ub978 \\\\ud559\\\\uc2b5 \\\\ub2a5\\\\ub825, \\\\uc815\\\\ud655\\\\ud55c \\\\uc18c\\\\ud1b5\\\\uc744 \\\\ud558\\\\uc2dc\\\\ub294 \\\\ubd84, \\\\ub192\\\\uc740 \\\\uc5c5\\\\ubb34 \\\\uac15\\\\ub3c4\\\\uc5d0 \\\\ub300\\\\ud55c \\\\ud68c\\\\ubcf5 \\\\ud0c4\\\\ub825\\\\uc131\\\\uc744 \\\\uac00\\\\uc9c0\\\\uc2e0 \\\\ubd84\"}]}]}, {\"\\\\uae30\\\\uc5c5 \\\\uba85\": \"\\\\uc4f0\\\\ub9ac\\\\ube4c\\\\ub9ac\\\\uc5b8\", \"\\\\ucc44\\\\uc6a9\\\\uacf5\\\\uace0\": [{\"\\\\ubd84\\\\uc57c\": \"\\\\ubc14\\\\uc774\\\\uc624, \\\\uc758\\\\uc57d, AI, \\\\uc81c\\\\uc57d\", \"\\\\uc9c1\\\\ubb34\": [{\"\\\\uc9c1\\\\ubb34 \\\\uba85\": \"AI\\\\uc5d4\\\\uc9c0\\\\ub2c8\\\\uc5b4\", \"\\\\uc804\\\\uacf5\": \"Bioinformatics, Cheminformatics, AI engineering, Computer Science \\\\ub4f1 \\\\uad00\\\\ub828 \\\\ud559\\\\uacfc\\\\ub97c \\\\ub098\\\\uc624\\\\uc2e0 \\\\ubd84\", \"\\\\ud544\\\\uc694 \\\\uc5ed\\\\ub7c9\": \"\\\\ud559\\\\uc0ac \\\\ud559\\\\uc704 \\\\uc774\\\\uc0c1\\\\uc778 \\\\ubd84, \\\\uc778\\\\uacf5\\\\uc9c0\\\\ub2a5 \\\\ud504\\\\ub808\\\\uc784\\\\uc6cc\\\\ud06c (TF, torch \\\\ub4f1) \\\\ub97c \\\\uc774\\\\ud574\\\\ud558\\\\uace0 \\\\uc9c1\\\\uc811 \\\\uad6c\\\\uc131\\\\ud55c \\\\ub124\\\\ud2b8\\\\uc6cc\\\\ud06c\\\\ub97c \\\\ud559\\\\uc2b5\\\\uc2dc\\\\ud0a8 \\\\uacbd\\\\ud5d8\\\\uc774 \\\\uc788\\\\uc73c\\\\uc2e0 \\\\ubd84\", \"\\\\uc6b0\\\\ub300 \\\\uc0ac\\\\ud56d\": \"\\\\ub2e4\\\\uc591\\\\ud55c \\\\uc0c1\\\\ud669\\\\uc5d0\\\\uc11c \\\\ucd5c\\\\uc801\\\\uc758 \\\\uc194\\\\ub8e8\\\\uc158\\\\uc744 \\\\ucc3e\\\\uc744 \\\\uc218 \\\\uc788\\\\ub294 \\\\ubb38\\\\uc81c\\\\ud574\\\\uacb0\\\\ub2a5\\\\ub825\\\\uacfc, \\\\uc801\\\\uadf9\\\\uc801\\\\uc774\\\\uace0 \\\\uc6d0\\\\ud65c\\\\ud55c \\\\ucee4\\\\ubba4\\\\ub2c8\\\\ucf00\\\\uc774\\\\uc158 \\\\uc5ed\\\\ub7c9\\\\uc744 \\\\uac16\\\\ucd94\\\\uc2e0 \\\\ubd84, AI \\\\uae30\\\\ubc18 \\\\uc2e0\\\\uc57d\\\\uac1c\\\\ubc1c \\\\uc778\\\\uacf5\\\\uc9c0\\\\ub2a5 \\\\uacbd\\\\ud5d8\\\\uc774 \\\\uc788\\\\uc73c\\\\uc2e0 \\\\ubd84, GNN, Diffusion \\\\ubaa8\\\\ub378\\\\uacfc \\\\uad00\\\\ub828\\\\ud55c \\\\ud504\\\\ub85c\\\\uc81d\\\\ud2b8 \\\\uacbd\\\\ud5d8\\\\uc774 \\\\uc788\\\\uc73c\\\\uc2e0 \\\\ubd84, MLOps \\\\uc6b4\\\\uc601 \\\\uacbd\\\\ud5d8\\\\uc774 \\\\uc788\\\\uc73c\\\\uc2e0 \\\\ubd84 (MLflow, Docker, AWS cloud), \\\\uc0dd\\\\ubb3c\\\\ud559 / \\\\uc720\\\\uc804\\\\ud559 \\\\ub370\\\\uc774\\\\ud130\\\\ub97c \\\\uc774\\\\uc6a9\\\\ud55c ML \\\\ud504\\\\ub85c\\\\uc81d\\\\ud2b8 \\\\uacbd\\\\ud5d8\\\\uc774 \\\\uc788\\\\uc73c\\\\uc2e0 \\\\ubd84\"}]}]}, {\"\\\\uae30\\\\uc5c5 \\\\uba85\": \"\\\\ub204\\\\uc544\", \"\\\\ucc44\\\\uc6a9\\\\uacf5\\\\uace0\": [{\"\\\\ubd84\\\\uc57c\": \"\\\\ud56d\\\\uacf5, \\\\uc5ec\\\\ud589, AI, \\\\ub370\\\\uc774\\\\ud130\\\\uc0ac\\\\uc774\\\\uc5b8\\\\uc2a4\", \"\\\\uc9c1\\\\ubb34\": [{\"\\\\uc9c1\\\\ubb34 \\\\uba85\": \"AI \\\\uc5d0\\\\uc774\\\\uc804\\\\ud2b8 \\\\uac1c\\\\ubc1c\\\\uc790\", \"\\\\uc804\\\\uacf5\": \"\\\\ubb34\\\\uad00\", \"\\\\ud544\\\\uc694 \\\\uc5ed\\\\ub7c9\": \"\\\\ub17c\\\\ub9ac\\\\uc801 \\\\uc0ac\\\\uace0\\\\uc640 \\\\ubb38\\\\uc81c\\\\ud574\\\\uacb0 \\\\ub2a5\\\\ub825, \\\\uc8fc\\\\uc5b4\\\\uc9c4 \\\\ubb38\\\\uc81c\\\\ub97c \\\\uc131\\\\uc2e4\\\\ud558\\\\uace0 \\\\uafb8\\\\uc900\\\\ud558\\\\uac8c \\\\ud574\\\\uacb0\\\\ud574\\\\ub0b4\\\\ub294 \\\\ubd84, 4\\\\ub144\\\\uc81c \\\\ub300\\\\ud559\\\\uad50 \\\\uc878\\\\uc5c5\\\\uc790 \\\\ub610\\\\ub294 \\\\uc878\\\\uc5c5 \\\\uc608\\\\uc815\\\\uc790\", \"\\\\uc6b0\\\\ub300 \\\\uc0ac\\\\ud56d\": \"Python, Java \\\\ub4f1 \\\\ud504\\\\ub85c\\\\uadf8\\\\ub798\\\\ubc0d \\\\uc5b8\\\\uc5b4\\\\uc5d0 \\\\ub300\\\\ud55c \\\\uc774\\\\ud574, \\\\ub300\\\\uaddc\\\\ubaa8 \\\\ub370\\\\uc774\\\\ud130 \\\\ucc98\\\\ub9ac \\\\ubc0f \\\\ubd84\\\\uc11d \\\\uacbd\\\\ud5d8, AI \\\\ubc0f \\\\uba38\\\\uc2e0\\\\ub7ec\\\\ub2dd \\\\uad00\\\\ub828'),\n",
       " Document(metadata={'source': '/home/jayiuk/find_jd/data.json', 'seq_num': 1}, page_content='\\\\uc5b8\\\\uc5b4\\\\uc5d0 \\\\ub300\\\\ud55c \\\\uc774\\\\ud574, \\\\ub300\\\\uaddc\\\\ubaa8 \\\\ub370\\\\uc774\\\\ud130 \\\\ucc98\\\\ub9ac \\\\ubc0f \\\\ubd84\\\\uc11d \\\\uacbd\\\\ud5d8, AI \\\\ubc0f \\\\uba38\\\\uc2e0\\\\ub7ec\\\\ub2dd \\\\uad00\\\\ub828 \\\\ud504\\\\ub85c\\\\uc81d\\\\ud2b8 \\\\uacbd\\\\ud5d8\"}]}]}, {\"\\\\uae30\\\\uc5c5 \\\\uba85\": \"\\\\uc774\\\\uc2a4\\\\ud2b8\\\\uc18c\\\\ud504\\\\ud2b8\", \"\\\\ucc44\\\\uc6a9\\\\uacf5\\\\uace0\": [{\"\\\\ubd84\\\\uc57c\": \"\\\\uc0ac\\\\uc774\\\\ubc84 \\\\ubcf4\\\\uc548, LLM, \\\\uba38\\\\uc2e0\\\\ub7ec\\\\ub2dd, MLOps\", \"\\\\uc9c1\\\\ubb34\": [{\"\\\\uc9c1\\\\ubb34 \\\\uba85\": \"\\\\uc54c\\\\uc57d xLLM \\\\uc81c\\\\ud488 \\\\uac1c\\\\ubc1c\", \"\\\\uc804\\\\uacf5\": \"\\\\ubb34\\\\uad00\", \"\\\\ud544\\\\uc694 \\\\uc5ed\\\\ub7c9\": \"Go, Java, Python \\\\ub4f1 \\\\ud558\\\\ub098 \\\\uc774\\\\uc0c1\\\\uc758 \\\\uc5b8\\\\uc5b4\\\\ub85c \\\\ubc31\\\\uc5d4\\\\ub4dc \\\\uac1c\\\\ubc1c \\\\uacbd\\\\ud5d8, RESTful API \\\\uc124\\\\uacc4 \\\\ubc0f \\\\uad6c\\\\ud604 \\\\uacbd\\\\ud5d8, SQL \\\\ubc0f NoSQL \\\\ub370\\\\uc774\\\\ud130\\\\ubca0\\\\uc774\\\\uc2a4 \\\\uc0ac\\\\uc6a9 \\\\uacbd\\\\ud5d8, Git \\\\ub4f1 \\\\ubc84\\\\uc804 \\\\uad00\\\\ub9ac \\\\ub3c4\\\\uad6c \\\\uacbd\\\\ud5d8, \\\\ubcf4\\\\uc548 \\\\ubc0f \\\\ub124\\\\ud2b8\\\\uc6cc\\\\ud06c \\\\uad00\\\\ub828 \\\\uc9c0\\\\uc2dd \\\\ubcf4\\\\uc720\", \"\\\\uc6b0\\\\ub300 \\\\uc0ac\\\\ud56d\": \"\\\\ubb38\\\\uc81c\\\\ud574\\\\uacb0\\\\uc744 \\\\uc990\\\\uae30\\\\uace0, \\\\uc0c8\\\\ub85c\\\\uc6b4 \\\\uae30\\\\uc220\\\\uc744 \\\\ubc30\\\\uc6b0\\\\ub294 \\\\uac83\\\\uc744 \\\\uc990\\\\uae30\\\\ub294 \\\\ubd84, \\\\uc8fc\\\\ubcc0 \\\\ub3d9\\\\ub8cc\\\\ub4e4\\\\uacfc \\\\ud611\\\\uc5c5\\\\uc774 \\\\uac00\\\\ub2a5\\\\ud558\\\\uba70 \\\\ucc45\\\\uc784\\\\uac10\\\\uc774 \\\\uc788\\\\ub294 \\\\ubd84, \\\\uc5f4\\\\uc815\\\\uc744 \\\\uac16\\\\uace0 \\\\uc790\\\\uae30\\\\uc8fc\\\\ub3c4\\\\uc801\\\\uc73c\\\\ub85c \\\\uc5c5\\\\ubb34\\\\ub97c \\\\uc218\\\\ud589 \\\\ub2a5\\\\ub825\\\\uc744 \\\\uac16\\\\ucd94\\\\uc2e0 \\\\ubd84\"}]}, {\"\\\\ubd84\\\\uc57c\": \"\\\\uc0ac\\\\uc774\\\\ubc84 \\\\ubcf4\\\\uc548, LLM, AI, R&D, \\\\uc5f0\\\\uad6c\\\\uac1c\\\\ubc1c\", \"\\\\uc9c1\\\\ubb34\": [{\"\\\\uc9c1\\\\ubb34 \\\\uba85\": \"\\\\uc54c\\\\uc57d xLLM \\\\uc81c\\\\ud488 AI \\\\uc5d4\\\\uc9c0\\\\ub2c8\\\\uc5b4\", \"\\\\uc804\\\\uacf5\": \"\\\\ubb34\\\\uad00\", \"\\\\ud544\\\\uc694 \\\\uc5ed\\\\ub7c9\": \"AI\\\\uc758 \\\\uc774\\\\ub860\\\\uc801/\\\\uae30\\\\uc220\\\\uc801 \\\\uc774\\\\ud574, AI \\\\ud559\\\\uc2b5 \\\\ubaa8\\\\ub378 \\\\uc5f0\\\\uad6c/\\\\uac1c\\\\ubc1c, \\\\uc0ac\\\\uc774\\\\ubc84 \\\\ubcf4\\\\uc548 \\\\ubc0f \\\\ub124\\\\ud2b8\\\\uc6cc\\\\ud06c \\\\uad00\\\\ub828 \\\\uc9c0\\\\uc2dd \\\\ubcf4\\\\uc720\", \"\\\\uc6b0\\\\ub300 \\\\uc0ac\\\\ud56d\": \"\\\\uc0ac\\\\uc774\\\\ubc84 \\\\ubcf4\\\\uc548 \\\\uc704\\\\ud611\\\\uc5d0 \\\\ub300\\\\ud55c \\\\uac1c\\\\uc120 \\\\uc758\\\\uc9c0, \\\\ubb38\\\\uc81c\\\\ud574\\\\uacb0\\\\uc744 \\\\uc990\\\\uae30\\\\uace0, \\\\uc0c8\\\\ub85c\\\\uc6b4 \\\\uae30\\\\uc220\\\\uc744 \\\\ubc30\\\\uc6b0\\\\ub294 \\\\uac83\\\\uc744 \\\\uc990\\\\uae30\\\\ub294 \\\\ubd84, \\\\uc8fc\\\\ubcc0 \\\\ub3d9\\\\ub8cc\\\\ub4e4\\\\uacfc \\\\ud611\\\\uc5c5\\\\uc774 \\\\uac00\\\\ub2a5\\\\ud558\\\\uba70 \\\\ucc45\\\\uc784\\\\uac10\\\\uc774 \\\\uc788\\\\ub294 \\\\ubd84, \\\\uc5f4\\\\uc815\\\\uc744 \\\\uac16\\\\uace0 \\\\uc790\\\\uae30\\\\uc8fc\\\\ub3c4\\\\uc801\\\\uc73c\\\\ub85c \\\\uc5c5\\\\ubb34\\\\ub97c \\\\uc218\\\\ud589 \\\\ub2a5\\\\ub825\\\\uc744 \\\\uac16\\\\ucd94\\\\uc2e0 \\\\ubd84\"}]}]}, {\"\\\\uae30\\\\uc5c5 \\\\uba85\": \"\\\\uc5c5\\\\uc2a4\\\\ud14c\\\\uc774\\\\uc9c0\", \"\\\\ucc44\\\\uc6a9\\\\uacf5\\\\uace0\": [{\"\\\\ubd84\\\\uc57c\": \"AI, LLM, R&D, \\\\uc5f0\\\\uad6c\\\\uac1c\\\\ubc1c\", \"\\\\uc9c1\\\\ubb34\": [{\"\\\\uc9c1\\\\ubb34 \\\\uba85\": \"AI Research Engineer - LLM\", \"\\\\uc804\\\\uacf5\": \"computer science, \\\\ucef4\\\\ud4e8\\\\ud130\\\\uacf5\\\\ud559, \\\\uc18c\\\\ud504\\\\ud2b8\\\\uc6e8\\\\uc5b4, AI, \\\\uc778\\\\uacf5\\\\uc9c0\\\\ub2a5\", \"\\\\ud544\\\\uc694 \\\\uc5ed\\\\ub7c9\": \"AI \\\\ubb38\\\\uc81c\\\\ub97c \\\\uc815\\\\uc758\\\\ud558\\\\uace0 \\\\ud574\\\\uacb0\\\\ud558\\\\ub294 \\\\ub2a5\\\\ub825, \\\\uba38\\\\uc2e0 \\\\ub7ec\\\\ub2dd, \\\\ub525 \\\\ub7ec\\\\ub2dd \\\\ubc0f \\\\uc790\\\\uc5f0\\\\uc5b4 \\\\ucc98\\\\ub9ac \\\\ubd84\\\\uc57c\\\\uc758 \\\\uc5f0\\\\uad6c \\\\uacbd\\\\ud5d8, \\\\uc8fc\\\\uc694 \\\\uae30\\\\uacc4 \\\\ud559\\\\uc2b5 \\\\ud504\\\\ub808\\\\uc784\\\\uc6cc\\\\ud06c\\\\uc5d0 \\\\ub300\\\\ud55c \\\\uae4a\\\\uc740 \\\\uc774\\\\ud574(\\\\uc608: TensorFlow, PyTorch), NLP, LLM \\\\ub4f1 \\\\uad00\\\\uc2ec AI \\\\ub3c4\\\\uba54\\\\uc778\\\\uc758 \\\\ucd5c\\\\uc2e0 \\\\ub3d9\\\\ud5a5\\\\uc5d0 \\\\ub300\\\\ud55c \\\\uc774\\\\ud574, \\\\ub2e4\\\\uc591\\\\ud55c \\\\ud611\\\\uc5c5 \\\\ud658\\\\uacbd\\\\uc5d0\\\\uc11c \\\\uc77c\\\\ud560 \\\\uc218 \\\\uc788\\\\ub294 \\\\ub2a5\\\\ub825, \\\\ud6cc\\\\ub96d\\\\ud55c \\\\uc758\\\\uc0ac \\\\uc18c\\\\ud1b5 \\\\ub2a5\\\\ub825\", \"\\\\uc6b0\\\\ub300 \\\\uc0ac\\\\ud56d\": \"Computer Science, AI \\\\ubc0f Engineering \\\\ub4f1 \\\\uad00\\\\ub828 \\\\ubd84\\\\uc57c\\\\uc758 \\\\ubc15\\\\uc0ac \\\\ud559\\\\uc704 \\\\ucde8\\\\ub4dd \\\\ud6c4 3\\\\ub144 \\\\uc774\\\\uc0c1\\\\uc758 \\\\uc2e4\\\\ubb34 \\\\uacbd\\\\ud5d8, \\\\ub300\\\\uaddc\\\\ubaa8 \\\\uc0c1\\\\uc6a9 ML(LLM, NLP \\\\ub4f1) \\\\uc81c\\\\ud488 \\\\uac1c\\\\ubc1c \\\\uacbd\\\\ud5d8, AI \\\\ubc0f NLP \\\\uad00\\\\ub828 International Conference Main Track (e.g. NeurIPS, ICML, ICLR, CVPR, ICCV, ECCV, ACL, EMNLP, AAAI, etc.)\\\\uc5d0\\\\uc11c 1\\\\uc800\\\\uc790 \\\\ud639\\\\uc740 \\\\uad50\\\\uc2e0\\\\uc800\\\\uc790\\\\ub85c'),\n",
       " Document(metadata={'source': '/home/jayiuk/find_jd/data.json', 'seq_num': 1}, page_content='\\\\ubc0f NLP \\\\uad00\\\\ub828 International Conference Main Track (e.g. NeurIPS, ICML, ICLR, CVPR, ICCV, ECCV, ACL, EMNLP, AAAI, etc.)\\\\uc5d0\\\\uc11c 1\\\\uc800\\\\uc790 \\\\ud639\\\\uc740 \\\\uad50\\\\uc2e0\\\\uc800\\\\uc790\\\\ub85c \\\\ucd9c\\\\ud310 \\\\uae30\\\\ub85d, \\\\uad6d\\\\uc81c \\\\ud639\\\\uc740 \\\\uad6d\\\\ub0b4 AI \\\\ub300\\\\ud68c (Kaggle \\\\ub4f1) \\\\uc0c1\\\\uc704\\\\uad8c \\\\uc785\\\\uc0c1, Generative AI \\\\ubc0f LLM \\\\uc5f0\\\\uad6c \\\\uacbd\\\\ud5d8, \\\\uae00\\\\ub85c\\\\ubc8c \\\\uace0\\\\uac1d \\\\ub300\\\\uc751\\\\uc744 \\\\uc704\\\\ud55c \\\\uc601\\\\uc5b4 \\\\ucee4\\\\ubba4\\\\ub2c8\\\\ucf00\\\\uc774\\\\uc158 \\\\ub2a5\\\\ub825\"}]}]}]')]"
      ]
     },
     "execution_count": 2,
     "metadata": {},
     "output_type": "execute_result"
    }
   ],
   "source": [
    "from docloadsplit import jsonloader\n",
    "path = \"./data.json\"\n",
    "doc = jsonloader(path)\n",
    "doc"
   ]
  },
  {
   "cell_type": "code",
   "execution_count": 3,
   "id": "f32753e0",
   "metadata": {},
   "outputs": [
    {
     "name": "stdout",
     "output_type": "stream",
     "text": [
      "<class 'list'>\n"
     ]
    }
   ],
   "source": [
    "print(type(doc))"
   ]
  },
  {
   "cell_type": "code",
   "execution_count": null,
   "id": "d9799d0c",
   "metadata": {},
   "outputs": [],
   "source": []
  }
 ],
 "metadata": {
  "kernelspec": {
   "display_name": "Python 3",
   "language": "python",
   "name": "python3"
  },
  "language_info": {
   "codemirror_mode": {
    "name": "ipython",
    "version": 3
   },
   "file_extension": ".py",
   "mimetype": "text/x-python",
   "name": "python",
   "nbconvert_exporter": "python",
   "pygments_lexer": "ipython3",
   "version": "3.11.7"
  }
 },
 "nbformat": 4,
 "nbformat_minor": 5
}
