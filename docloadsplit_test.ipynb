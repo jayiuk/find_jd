{
 "cells": [
  {
   "cell_type": "code",
   "execution_count": 1,
   "id": "79716c17",
   "metadata": {},
   "outputs": [
    {
     "data": {
      "text/plain": [
       "[Document(metadata={'source': '/home/jayiuk/find_jd/data.json', 'seq_num': 1}, page_content=\"[{'삼성전자': [{'부서': '메모리 사업부', '직무': [{'직무 명': '회로설계', '전공': '전기전자 : 기초전자회로, 전자기학, VLSI 회로설계, 신호와 시스템, 제어공학, 반도체 소자, 디지털 전자회로, 아날로그 전자회로, 컴퓨터 구조, 컴퓨터 네트워크, 임베디드 시스템 등', '필요 역량': '반도체 기본 동작원리, 전자회로이론 등 반도체 회로설계에 필요한 역량 보유자, 프로그래밍 언어 (C, C++, Verilog/VHDL, Python 등) 역량 보유자, FPGA/ASIC 설계 및 검증 (Vivado, Quartus, Design Compiler 등) 역량 보유자', '우대 사항': '직무와 연관된 경험 보유자 (프로젝트, 논문, 특허, 경진대회), 반도체 개발 관련 Tool (SPICE Simulation, Schematic Editor, Layout Editor, Trace32, Power, Supply, Logic/Protocol Analyzer, FPGA 등) 역량 보유자, 프로그래밍 언어 (C++, System Verilog, Python, VBA 등) 역량 보유자'}, {'직무 명': '평가및분석', '전공': '전기전자 : 반도체소자, 반도체집적공정, 기초전자회로, 자료구조개론, 전력전자 등, 재료/금속 : 전기/전자재료, 재료공학, 재료물리화학, 재료역학, 재료강도학, 재료물성, 열/유체,, 기구설계, 반도체 재료 및 소자 등, 화학/화공 : 열역학, 열 및 물질전달, 유체역학, 유기/무기화학, 물리화학, 반응공학, 고분자화학, 고분자공학 등, 기계 : 고체역학, 메카트로닉스, 열역학, 동역학, 정역학, 유체역학 등, 물리 : 고체물리, 반도체물리, 전자물리의 기초, 양자역학, 에너지물리화학 등, 산업공학 : 데이터관리와 분석, 프로그래밍언어, 실험계획법, 데이터마이닝, 산업통계공학 등, 수학/통계 : 선형대수학, 수치해석, 데이터분석, 확률의 개념 및 응용, 수리통계, 이산자료분석, 데이터과학 등', '필요 역량': '반도체 소자 동작 원리, 디지털 신호 처리 및 전자 회로 등 반도체 개발/평가에 필요한 역량 보유자, 빅데이터를 통계적으로 처리할 수 있는 데이터 분석 역량 보유자, 운영체제, 임베디드 시스템에서 메모리 동작 원리 이해가 가능한 역량 보유자, 반도체 제품/부품의 신뢰성 분석 업무 경험, 지식 보유자, 개발 및 분석 관련 Tool (MiniTab, 3D Scope, X-Ray) 역량 보유자', '우대 사항': '직무와 연관된 경험 보유자 (프로젝트, 논문, 특허, 경진대회), 반도체 개발 및 분석 관련 Tool (Spotfire, SPICE Simulation, Schematic Editor, Allegro, Layout, Drawing, Trace32, Power Supply, Logic / Protocol Analyzer, Oscilloscope, MiniTab, 3D Scope, 3D CT, X-Ray, Dye & Pry, De-Capsulation, Cross Section, SAT, FIB, SEM, EDS, FESEM, TMA 등) 역량 보유자, 프로그래밍 언어(C, C++, R, Python, Linux, VBA 등) 역량 보유자, 품질관련 공인(CRE, CQE, 품질기사 등) 자격증 보유자, 평가 및 검증을 위한 테스트 시나리오 도출 및 구현 역량 보유자, 소재 구조(Chemical/Physical), 물성, 특성 및 성분 분석 기술 역량 보유자, 평가 및 분석을 위한 불량 분석 기술 개발 및 선행 기술 구현 역량 보유자, Automotive 향 부품/제품 개발 및 신뢰성 전문 기술 역량 보유자, 웹 개발 언어(Java script, Python 등) 및 프레임워크(React, Angular 등) 활용 역량 보유자, 부품/제품 신뢰성 평가 및 분석 업무 경험, Al Die-Casting, Press, 가공, 압출 설계 경험, Ansys, HyperMesh, Fluent, Flotherm Tool 사용 경험'}, {'직무 명': '반도체공정설계', '전공': '전기전자 : 전자기학, 반도체소자, 반도체공학, 기초전자회로 등, 재료/금속 : 반도체 재료 및 소자, 재료공학개론, 결정구조, 재료물성 등, 화학/화공 : 반도체집적공정, 유기 / 무기 화학, 물리화학 등, 기계 : 고체역학, 유체역학, 열역학, 동역학 등, 물리 : 반도체물리, 고체의 성질, 양자역학, 전자기학, 플라즈마 기초 등', '필요 역량': '반도체 기본 동작원리, 공정개발 등 반도체 개발의 공정프로세스 개선에 필요한 역량 보유자, 반도체 단위 공정, Device physics 등 반도체 소자 및 공정 관련 전공지식 보유자, 반도체 소자의 물리적/재료화학적 분석에 필요한 역량 보유자, 메모리 제품(DRAM, Flash memory 등)의 동작 원리와 구조를 이해하고 제품의 성능, 품질 개선에 필요한 직무지식 보유자, 빅데이터 분석 역량 및 통계학 관련 전공지식 보유자', '우대 사항': '직무와 연관된 경험 보유자 (프로젝트, 논문, 특허, 경진대회), Transistor 관련 (물리전자, 고체전자물리) 분석 유경험자, Python 등 프로그래밍 유경험자'}]}]}]\")]"
      ]
     },
     "execution_count": 1,
     "metadata": {},
     "output_type": "execute_result"
    }
   ],
   "source": [
    "from docloadsplit import jsonloader\n",
    "path = \"./data.json\"\n",
    "doc = jsonloader(path)\n",
    "doc"
   ]
  },
  {
   "cell_type": "code",
   "execution_count": 2,
   "id": "f32753e0",
   "metadata": {},
   "outputs": [
    {
     "name": "stdout",
     "output_type": "stream",
     "text": [
      "<class 'list'>\n"
     ]
    }
   ],
   "source": [
    "print(type(doc))"
   ]
  },
  {
   "cell_type": "code",
   "execution_count": null,
   "id": "d9799d0c",
   "metadata": {},
   "outputs": [],
   "source": []
  }
 ],
 "metadata": {
  "kernelspec": {
   "display_name": "llm",
   "language": "python",
   "name": "python3"
  },
  "language_info": {
   "codemirror_mode": {
    "name": "ipython",
    "version": 3
   },
   "file_extension": ".py",
   "mimetype": "text/x-python",
   "name": "python",
   "nbconvert_exporter": "python",
   "pygments_lexer": "ipython3",
   "version": "3.11.7"
  }
 },
 "nbformat": 4,
 "nbformat_minor": 5
}
