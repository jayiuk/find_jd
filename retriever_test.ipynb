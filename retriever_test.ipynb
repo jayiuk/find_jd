{
 "cells": [
  {
   "cell_type": "code",
   "execution_count": 1,
   "id": "1fa05876",
   "metadata": {},
   "outputs": [
    {
     "name": "stderr",
     "output_type": "stream",
     "text": [
      "c:\\Users\\jayiu\\find_jd\\vectorstore.py:20: LangChainDeprecationWarning: The class `Chroma` was deprecated in LangChain 0.2.9 and will be removed in 1.0. An updated version of the class exists in the :class:`~langchain-chroma package and should be used instead. To use it run `pip install -U :class:`~langchain-chroma` and import as `from :class:`~langchain_chroma import Chroma``.\n",
      "  persist_db = Chroma(\n",
      "Failed to send telemetry event ClientStartEvent: capture() takes 1 positional argument but 3 were given\n",
      "Failed to send telemetry event ClientCreateCollectionEvent: capture() takes 1 positional argument but 3 were given\n",
      "c:\\Users\\jayiu\\find_jd\\retriever.py:16: LangChainDeprecationWarning: The method `BaseRetriever.get_relevant_documents` was deprecated in langchain-core 0.1.46 and will be removed in 1.0. Use :meth:`~invoke` instead.\n",
      "  result = self.retriever.get_relevant_documents(query)\n",
      "Failed to send telemetry event CollectionQueryEvent: capture() takes 1 positional argument but 3 were given\n"
     ]
    },
    {
     "data": {
      "text/plain": [
       "[Document(metadata={'seq_num': 1, 'source': '/home/jayiuk/find_jd/data.json'}, page_content='\\\\ubc0f NLP \\\\uad00\\\\ub828 International Conference Main Track (e.g. NeurIPS, ICML, ICLR, CVPR, ICCV, ECCV, ACL, EMNLP, AAAI, etc.)\\\\uc5d0\\\\uc11c 1\\\\uc800\\\\uc790 \\\\ud639\\\\uc740 \\\\uad50\\\\uc2e0\\\\uc800\\\\uc790\\\\ub85c \\\\ucd9c\\\\ud310 \\\\uae30\\\\ub85d, \\\\uad6d\\\\uc81c \\\\ud639\\\\uc740 \\\\uad6d\\\\ub0b4 AI \\\\ub300\\\\ud68c (Kaggle \\\\ub4f1) \\\\uc0c1\\\\uc704\\\\uad8c \\\\uc785\\\\uc0c1, Generative AI \\\\ubc0f LLM \\\\uc5f0\\\\uad6c \\\\uacbd\\\\ud5d8, \\\\uae00\\\\ub85c\\\\ubc8c \\\\uace0\\\\uac1d \\\\ub300\\\\uc751\\\\uc744 \\\\uc704\\\\ud55c \\\\uc601\\\\uc5b4 \\\\ucee4\\\\ubba4\\\\ub2c8\\\\ucf00\\\\uc774\\\\uc158 \\\\ub2a5\\\\ub825\"}]}]}]')]"
      ]
     },
     "execution_count": 1,
     "metadata": {},
     "output_type": "execute_result"
    }
   ],
   "source": [
    "from retriever import Retriever\n",
    "query = '뤼튼 인공지능 분야 인공지능 전공'\n",
    "retriever = Retriever()\n",
    "result = retriever.find_relevant(query)\n",
    "result"
   ]
  },
  {
   "cell_type": "code",
   "execution_count": null,
   "id": "f24dbc17",
   "metadata": {},
   "outputs": [],
   "source": []
  }
 ],
 "metadata": {
  "kernelspec": {
   "display_name": "llm",
   "language": "python",
   "name": "python3"
  },
  "language_info": {
   "codemirror_mode": {
    "name": "ipython",
    "version": 3
   },
   "file_extension": ".py",
   "mimetype": "text/x-python",
   "name": "python",
   "nbconvert_exporter": "python",
   "pygments_lexer": "ipython3",
   "version": "3.11.7"
  }
 },
 "nbformat": 4,
 "nbformat_minor": 5
}
